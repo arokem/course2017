{
 "cells": [
  {
   "cell_type": "code",
   "execution_count": 1,
   "metadata": {
    "collapsed": true
   },
   "outputs": [],
   "source": [
    "%matplotlib inline\n",
    "import random\n",
    "import pylab\n",
    "from scipy.stats import gaussian_kde\n",
    "import numpy\n"
   ]
  },
  {
   "cell_type": "code",
   "execution_count": 2,
   "metadata": {},
   "outputs": [],
   "source": [
    "# make a trunk with 'total_in_trunk' m&ms in it, using color/distribution\n",
    "def make_trunk(colors, dist, total_in_trunk):\n",
    "    total_dist = sum(dist)\n",
    "    \n",
    "    trunk = []\n",
    "    for (color, count) in zip(colors, dist):\n",
    "        num = count / total_dist * total_in_trunk\n",
    "        trunk.extend([color] * int(num))\n",
    "    random.shuffle(trunk)\n",
    "    \n",
    "    return trunk\n",
    "\n",
    "def sample_n(trunk, n):\n",
    "    sample = []\n",
    "    for i in range(n):\n",
    "        sample.append(trunk.pop())\n",
    "    return sample"
   ]
  },
  {
   "cell_type": "markdown",
   "metadata": {},
   "source": [
    "## Define distribution of M&Ms in trunks:"
   ]
  },
  {
   "cell_type": "code",
   "execution_count": 3,
   "metadata": {},
   "outputs": [],
   "source": [
    "\n",
    "colors = ['chartreuse', 'green', 'blue', 'red', 'purple', 'pink', 'grey', 'black', 'white', 'brown']\n",
    "dist1 = [20, 11, 5, 22, 3, 50, 1,  1, 12, 19]\n",
    "dist2 = [20, 11, 5, 1,  3, 50, 20, 1, 20, 19]\n",
    "#                   ^^         ^^     ^^\n"
   ]
  },
  {
   "cell_type": "markdown",
   "metadata": {},
   "source": [
    "## Make two trunks:"
   ]
  },
  {
   "cell_type": "code",
   "execution_count": 4,
   "metadata": {},
   "outputs": [],
   "source": [
    "trunk1 = make_trunk(colors, dist1, 1e7)\n",
    "trunk2 = make_trunk(colors, dist2, 1e7)"
   ]
  },
  {
   "cell_type": "markdown",
   "metadata": {},
   "source": [
    "## Count red M&Ms in trunks, compare with theory:"
   ]
  },
  {
   "cell_type": "code",
   "execution_count": 5,
   "metadata": {},
   "outputs": [
    {
     "data": {
      "text/plain": [
       "0.1527777763888882"
      ]
     },
     "execution_count": 5,
     "metadata": {},
     "output_type": "execute_result"
    }
   ],
   "source": [
    "trunk1.count('red') / len(trunk1)"
   ]
  },
  {
   "cell_type": "code",
   "execution_count": 6,
   "metadata": {},
   "outputs": [
    {
     "data": {
      "text/plain": [
       "0.1388888888888889"
      ]
     },
     "execution_count": 6,
     "metadata": {},
     "output_type": "execute_result"
    }
   ],
   "source": [
    "dist1[0] / sum(dist1)"
   ]
  },
  {
   "cell_type": "markdown",
   "metadata": {},
   "source": [
    "## Small samples give us less accurate estimations than big samples"
   ]
  },
  {
   "cell_type": "code",
   "execution_count": 7,
   "metadata": {},
   "outputs": [],
   "source": [
    "sample1 = sample_n(trunk1, 10)"
   ]
  },
  {
   "cell_type": "code",
   "execution_count": 8,
   "metadata": {},
   "outputs": [
    {
     "data": {
      "text/plain": [
       "1"
      ]
     },
     "execution_count": 8,
     "metadata": {},
     "output_type": "execute_result"
    }
   ],
   "source": [
    "sample1.count('red')"
   ]
  },
  {
   "cell_type": "code",
   "execution_count": 9,
   "metadata": {},
   "outputs": [
    {
     "data": {
      "text/plain": [
       "13"
      ]
     },
     "execution_count": 9,
     "metadata": {},
     "output_type": "execute_result"
    }
   ],
   "source": [
    "sample_n(trunk1, 100).count('red')"
   ]
  },
  {
   "cell_type": "code",
   "execution_count": 10,
   "metadata": {},
   "outputs": [
    {
     "data": {
      "text/plain": [
       "143"
      ]
     },
     "execution_count": 10,
     "metadata": {},
     "output_type": "execute_result"
    }
   ],
   "source": [
    "sample_n(trunk1, 1000).count('red')"
   ]
  },
  {
   "cell_type": "markdown",
   "metadata": {},
   "source": [
    "## Each sample gives us a different estimation"
   ]
  },
  {
   "cell_type": "code",
   "execution_count": 11,
   "metadata": {},
   "outputs": [
    {
     "data": {
      "text/plain": [
       "19"
      ]
     },
     "execution_count": 11,
     "metadata": {},
     "output_type": "execute_result"
    }
   ],
   "source": [
    "sample_n(trunk1, 100).count('red')"
   ]
  },
  {
   "cell_type": "code",
   "execution_count": 12,
   "metadata": {},
   "outputs": [
    {
     "data": {
      "text/plain": [
       "14"
      ]
     },
     "execution_count": 12,
     "metadata": {},
     "output_type": "execute_result"
    }
   ],
   "source": [
    "sample_n(trunk1, 100).count('red')\n"
   ]
  },
  {
   "cell_type": "code",
   "execution_count": 13,
   "metadata": {},
   "outputs": [
    {
     "data": {
      "text/plain": [
       "19"
      ]
     },
     "execution_count": 13,
     "metadata": {},
     "output_type": "execute_result"
    }
   ],
   "source": [
    "sample_n(trunk1, 100).count('red')"
   ]
  },
  {
   "cell_type": "markdown",
   "metadata": {},
   "source": [
    "## These estimations are Poisson distributed"
   ]
  },
  {
   "cell_type": "code",
   "execution_count": 14,
   "metadata": {
    "collapsed": true
   },
   "outputs": [],
   "source": [
    "red_fraction = []"
   ]
  },
  {
   "cell_type": "code",
   "execution_count": 15,
   "metadata": {},
   "outputs": [
    {
     "name": "stdout",
     "output_type": "stream",
     "text": [
      "got 12 red out of 100\n"
     ]
    }
   ],
   "source": [
    "sample = sample_n(trunk1, 100)\n",
    "print('got {} red out of {}'.format(sample.count('red'), len(sample)))\n",
    "f = sample.count('red') / len(sample)\n",
    "red_fraction.append(f)\n",
    "      "
   ]
  },
  {
   "cell_type": "code",
   "execution_count": 16,
   "metadata": {},
   "outputs": [
    {
     "data": {
      "image/png": "[encoded data removed]",
      "text/plain": [
       "<matplotlib.figure.Figure at 0x1076f2198>"
      ]
     },
     "metadata": {},
     "output_type": "display_data"
    }
   ],
   "source": [
    "_ = pylab.hist(red_fraction)"
   ]
  },
  {
   "cell_type": "markdown",
   "metadata": {},
   "source": [
    "## Few samples -> bad estimation"
   ]
  },
  {
   "cell_type": "code",
   "execution_count": 17,
   "metadata": {},
   "outputs": [
    {
     "data": {
      "image/png": "[encoded data removed]",
      "text/plain": [
       "<matplotlib.figure.Figure at 0x109377eb8>"
      ]
     },
     "metadata": {},
     "output_type": "display_data"
    }
   ],
   "source": [
    "red_fraction_small = []\n",
    "for i in range(100):\n",
    "    sample = sample_n(trunk1, 100)\n",
    "    f = sample.count('red') / len(sample)\n",
    "    red_fraction_small.append(f)\n",
    "    \n",
    "_ = pylab.hist(red_fraction_small, normed=True)\n",
    "pylab.title('red fraction, est from {} samples'.format(len(red_fraction_small)))\n",
    "_ = pylab.axis(xmin=0, xmax=0.3)"
   ]
  },
  {
   "cell_type": "markdown",
   "metadata": {},
   "source": [
    "## More samples -> better estimation"
   ]
  },
  {
   "cell_type": "code",
   "execution_count": 18,
   "metadata": {},
   "outputs": [
    {
     "data": {
      "image/png": "[encoded data removed]",
      "text/plain": [
       "<matplotlib.figure.Figure at 0x10b27c048>"
      ]
     },
     "metadata": {},
     "output_type": "display_data"
    }
   ],
   "source": [
    "red_fraction_big = []\n",
    "for i in range(100):\n",
    "    sample = sample_n(trunk1, 1000)        # <-- from 100 to 1000\n",
    "    f = sample.count('red') / len(sample)\n",
    "    red_fraction_big.append(f)\n",
    "    \n",
    "_ = pylab.hist(red_fraction_big,normed=True)\n",
    "pylab.title('red fraction, est from {} samples'.format(len(red_fraction_big)))\n",
    "_ = pylab.axis(xmin=0, xmax=0.3)"
   ]
  },
  {
   "cell_type": "markdown",
   "metadata": {},
   "source": [
    "## You can do Gaussian fits if you want it to look prettier --\n",
    "\n",
    "this smooths over the binning noise."
   ]
  },
  {
   "cell_type": "code",
   "execution_count": 19,
   "metadata": {},
   "outputs": [
    {
     "data": {
      "text/plain": [
       "<matplotlib.legend.Legend at 0x10b41a390>"
      ]
     },
     "execution_count": 19,
     "metadata": {},
     "output_type": "execute_result"
    },
    {
     "data": {
      "image/png": "[encoded data removed]",
      "text/plain": [
       "<matplotlib.figure.Figure at 0x105e7e518>"
      ]
     },
     "metadata": {},
     "output_type": "display_data"
    }
   ],
   "source": [
    "g1 = gaussian_kde(red_fraction_small)\n",
    "g2 = gaussian_kde(red_fraction_big)\n",
    "\n",
    "xs = numpy.linspace(0, 0.3, 100)\n",
    "pylab.plot(xs, g1(xs), label='100 samples per')\n",
    "pylab.plot(xs, g2(xs), label='1000 samples per')\n",
    "pylab.legend(loc='upper right')"
   ]
  },
  {
   "cell_type": "markdown",
   "metadata": {},
   "source": [
    "## You can estimate the number of red M&Ms in trunk2 also:"
   ]
  },
  {
   "cell_type": "code",
   "execution_count": 20,
   "metadata": {},
   "outputs": [
    {
     "data": {
      "text/plain": [
       "<matplotlib.text.Text at 0x10b479828>"
      ]
     },
     "execution_count": 20,
     "metadata": {},
     "output_type": "execute_result"
    },
    {
     "data": {
      "image/png": "[encoded data removed]",
      "text/plain": [
       "<matplotlib.figure.Figure at 0x10b43b1d0>"
      ]
     },
     "metadata": {},
     "output_type": "display_data"
    }
   ],
   "source": [
    "red_fraction2 = []\n",
    "for i in range(1000):\n",
    "    sample = sample_n(trunk2, 100)\n",
    "    f = sample.count('red') / len(sample)\n",
    "    red_fraction2.append(f)\n",
    "    \n",
    "_ = pylab.hist(red_fraction2)\n",
    "pylab.title('small fractions of M&Ms cause measurement problems')"
   ]
  },
  {
   "cell_type": "markdown",
   "metadata": {},
   "source": [
    "(It's harder to get good estimates for lower abundance M&Ms!)"
   ]
  },
  {
   "cell_type": "markdown",
   "metadata": {},
   "source": [
    "## Let's look at white M&Ms, now."
   ]
  },
  {
   "cell_type": "code",
   "execution_count": 21,
   "metadata": {},
   "outputs": [
    {
     "name": "stdout",
     "output_type": "stream",
     "text": [
      "trunk 1 / white count: 9\n",
      "trunk 2 / white count: 17\n"
     ]
    }
   ],
   "source": [
    "print('trunk 1 / white count:', sample_n(trunk1, 100).count('white'))\n",
    "print('trunk 2 / white count:', sample_n(trunk2, 100).count('white'))"
   ]
  },
  {
   "cell_type": "markdown",
   "metadata": {},
   "source": [
    "## hmm, better look at distributions..."
   ]
  },
  {
   "cell_type": "code",
   "execution_count": 22,
   "metadata": {},
   "outputs": [
    {
     "data": {
      "text/plain": [
       "<matplotlib.text.Text at 0x10b5c9c50>"
      ]
     },
     "execution_count": 22,
     "metadata": {},
     "output_type": "execute_result"
    },
    {
     "data": {
      "image/png": "[encoded data removed]",
      "text/plain": [
       "<matplotlib.figure.Figure at 0x10b474320>"
      ]
     },
     "metadata": {},
     "output_type": "display_data"
    }
   ],
   "source": [
    "white_fraction1 = []\n",
    "for i in range(1000):\n",
    "    sample = sample_n(trunk1, 100)\n",
    "    f = sample.count('white') / len(sample)\n",
    "    white_fraction1.append(f)\n",
    "    \n",
    "_ = pylab.hist(white_fraction1)\n",
    "pylab.axis(xmax=0.30)\n",
    "pylab.title('white M&Ms in trunk1')"
   ]
  },
  {
   "cell_type": "code",
   "execution_count": 23,
   "metadata": {},
   "outputs": [
    {
     "data": {
      "text/plain": [
       "<matplotlib.text.Text at 0x10b29ba58>"
      ]
     },
     "execution_count": 23,
     "metadata": {},
     "output_type": "execute_result"
    },
    {
     "data": {
      "image/png": "[encoded data removed]",
      "text/plain": [
       "<matplotlib.figure.Figure at 0x10b55e7b8>"
      ]
     },
     "metadata": {},
     "output_type": "display_data"
    }
   ],
   "source": [
    "white_fraction2 = []\n",
    "for i in range(1000):\n",
    "    sample = sample_n(trunk2, 100)\n",
    "    f = sample.count('white') / len(sample)\n",
    "    white_fraction2.append(f)\n",
    "    \n",
    "_ = pylab.hist(white_fraction2)\n",
    "pylab.axis(xmax=0.30)\n",
    "pylab.title('white M&Ms in trunk2')"
   ]
  },
  {
   "cell_type": "code",
   "execution_count": null,
   "metadata": {
    "collapsed": true
   },
   "outputs": [],
   "source": []
  }
 ],
 "metadata": {
  "kernelspec": {
   "display_name": "Python 3",
   "language": "python",
   "name": "python3"
  },
  "language_info": {
   "codemirror_mode": {
    "name": "ipython",
    "version": 3
   },
   "file_extension": ".py",
   "mimetype": "text/x-python",
   "name": "python",
   "nbconvert_exporter": "python",
   "pygments_lexer": "ipython3",
   "version": "3.5.1"
  }
 },
 "nbformat": 4,
 "nbformat_minor": 2
}
